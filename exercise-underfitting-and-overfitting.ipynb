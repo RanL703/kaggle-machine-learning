{
 "cells": [
  {
   "cell_type": "markdown",
   "id": "2ed3c907",
   "metadata": {
    "papermill": {
     "duration": 0.003316,
     "end_time": "2025-06-17T19:15:03.902200",
     "exception": false,
     "start_time": "2025-06-17T19:15:03.898884",
     "status": "completed"
    },
    "tags": []
   },
   "source": [
    "**This notebook is an exercise in the [Introduction to Machine Learning](https://www.kaggle.com/learn/intro-to-machine-learning) course.  You can reference the tutorial at [this link](https://www.kaggle.com/dansbecker/underfitting-and-overfitting).**\n",
    "\n",
    "---\n"
   ]
  },
  {
   "cell_type": "markdown",
   "id": "ab872903",
   "metadata": {
    "papermill": {
     "duration": 0.002399,
     "end_time": "2025-06-17T19:15:03.907627",
     "exception": false,
     "start_time": "2025-06-17T19:15:03.905228",
     "status": "completed"
    },
    "tags": []
   },
   "source": [
    "## Recap\n",
    "You've built your first model, and now it's time to optimize the size of the tree to make better predictions. Run this cell to set up your coding environment where the previous step left off."
   ]
  },
  {
   "cell_type": "code",
   "execution_count": 1,
   "id": "f6ac6253",
   "metadata": {
    "execution": {
     "iopub.execute_input": "2025-06-17T19:15:03.914698Z",
     "iopub.status.busy": "2025-06-17T19:15:03.914267Z",
     "iopub.status.idle": "2025-06-17T19:15:08.080539Z",
     "shell.execute_reply": "2025-06-17T19:15:08.079342Z"
    },
    "papermill": {
     "duration": 4.171554,
     "end_time": "2025-06-17T19:15:08.082099",
     "exception": false,
     "start_time": "2025-06-17T19:15:03.910545",
     "status": "completed"
    },
    "tags": []
   },
   "outputs": [
    {
     "name": "stdout",
     "output_type": "stream",
     "text": [
      "Validation MAE: 29,653\n",
      "\n",
      "Setup complete\n"
     ]
    }
   ],
   "source": [
    "# Code you have previously used to load data\n",
    "import pandas as pd\n",
    "from sklearn.metrics import mean_absolute_error\n",
    "from sklearn.model_selection import train_test_split\n",
    "from sklearn.tree import DecisionTreeRegressor\n",
    "\n",
    "\n",
    "# Path of the file to read\n",
    "iowa_file_path = '../input/home-data-for-ml-course/train.csv'\n",
    "\n",
    "home_data = pd.read_csv(iowa_file_path)\n",
    "# Create target object and call it y\n",
    "y = home_data.SalePrice\n",
    "# Create X\n",
    "features = ['LotArea', 'YearBuilt', '1stFlrSF', '2ndFlrSF', 'FullBath', 'BedroomAbvGr', 'TotRmsAbvGrd']\n",
    "X = home_data[features]\n",
    "\n",
    "# Split into validation and training data\n",
    "train_X, val_X, train_y, val_y = train_test_split(X, y, random_state=1)\n",
    "\n",
    "# Specify Model\n",
    "iowa_model = DecisionTreeRegressor(random_state=1)\n",
    "# Fit Model\n",
    "iowa_model.fit(train_X, train_y)\n",
    "\n",
    "# Make validation predictions and calculate mean absolute error\n",
    "val_predictions = iowa_model.predict(val_X)\n",
    "val_mae = mean_absolute_error(val_predictions, val_y)\n",
    "print(\"Validation MAE: {:,.0f}\".format(val_mae))\n",
    "\n",
    "# Set up code checking\n",
    "from learntools.core import binder\n",
    "binder.bind(globals())\n",
    "from learntools.machine_learning.ex5 import *\n",
    "print(\"\\nSetup complete\")"
   ]
  },
  {
   "cell_type": "markdown",
   "id": "bb71747e",
   "metadata": {
    "papermill": {
     "duration": 0.002628,
     "end_time": "2025-06-17T19:15:08.087735",
     "exception": false,
     "start_time": "2025-06-17T19:15:08.085107",
     "status": "completed"
    },
    "tags": []
   },
   "source": [
    "# Exercises\n",
    "You could write the function `get_mae` yourself. For now, we'll supply it. This is the same function you read about in the previous lesson. Just run the cell below."
   ]
  },
  {
   "cell_type": "code",
   "execution_count": 2,
   "id": "1c15886b",
   "metadata": {
    "execution": {
     "iopub.execute_input": "2025-06-17T19:15:08.094959Z",
     "iopub.status.busy": "2025-06-17T19:15:08.094113Z",
     "iopub.status.idle": "2025-06-17T19:15:08.099265Z",
     "shell.execute_reply": "2025-06-17T19:15:08.098314Z"
    },
    "papermill": {
     "duration": 0.010253,
     "end_time": "2025-06-17T19:15:08.100756",
     "exception": false,
     "start_time": "2025-06-17T19:15:08.090503",
     "status": "completed"
    },
    "tags": []
   },
   "outputs": [],
   "source": [
    "def get_mae(max_leaf_nodes, train_X, val_X, train_y, val_y):\n",
    "    model = DecisionTreeRegressor(max_leaf_nodes=max_leaf_nodes, random_state=0)\n",
    "    model.fit(train_X, train_y)\n",
    "    preds_val = model.predict(val_X)\n",
    "    mae = mean_absolute_error(val_y, preds_val)\n",
    "    return(mae)"
   ]
  },
  {
   "cell_type": "markdown",
   "id": "4643520c",
   "metadata": {
    "papermill": {
     "duration": 0.002489,
     "end_time": "2025-06-17T19:15:08.106158",
     "exception": false,
     "start_time": "2025-06-17T19:15:08.103669",
     "status": "completed"
    },
    "tags": []
   },
   "source": [
    "## Step 1: Compare Different Tree Sizes\n",
    "Write a loop that tries the following values for *max_leaf_nodes* from a set of possible values.\n",
    "\n",
    "Call the *get_mae* function on each value of max_leaf_nodes. Store the output in some way that allows you to select the value of `max_leaf_nodes` that gives the most accurate model on your data."
   ]
  },
  {
   "cell_type": "code",
   "execution_count": 3,
   "id": "76885d82",
   "metadata": {
    "execution": {
     "iopub.execute_input": "2025-06-17T19:15:08.112742Z",
     "iopub.status.busy": "2025-06-17T19:15:08.112363Z",
     "iopub.status.idle": "2025-06-17T19:15:08.156947Z",
     "shell.execute_reply": "2025-06-17T19:15:08.156029Z"
    },
    "papermill": {
     "duration": 0.049585,
     "end_time": "2025-06-17T19:15:08.158486",
     "exception": false,
     "start_time": "2025-06-17T19:15:08.108901",
     "status": "completed"
    },
    "tags": []
   },
   "outputs": [
    {
     "data": {
      "application/javascript": [
       "parent.postMessage({\"jupyterEvent\": \"custom.exercise_interaction\", \"data\": {\"outcomeType\": 1, \"valueTowardsCompletion\": 0.5, \"interactionType\": 1, \"questionType\": 1, \"questionId\": \"1_BestTreeSize\", \"learnToolsVersion\": \"0.3.5\", \"failureMessage\": \"\", \"exceptionClass\": \"\", \"trace\": \"\"}}, \"*\")"
      ],
      "text/plain": [
       "<IPython.core.display.Javascript object>"
      ]
     },
     "metadata": {},
     "output_type": "display_data"
    },
    {
     "data": {
      "text/markdown": [
       "<span style=\"color:#33cc33\">Correct</span>"
      ],
      "text/plain": [
       "Correct"
      ]
     },
     "metadata": {},
     "output_type": "display_data"
    }
   ],
   "source": [
    "candidate_max_leaf_nodes = [5, 25, 50, 100, 250, 500]\n",
    "# Write loop to find the ideal tree size from candidate_max_leaf_nodes\n",
    "scores = {leaf_size: get_mae(leaf_size, train_X, val_X, train_y, val_y) for leaf_size in candidate_max_leaf_nodes}\n",
    "best_tree_size = min(scores, key=scores.get)\n",
    "\n",
    "# Check your answer\n",
    "step_1.check()"
   ]
  },
  {
   "cell_type": "code",
   "execution_count": 4,
   "id": "9480dd55",
   "metadata": {
    "execution": {
     "iopub.execute_input": "2025-06-17T19:15:08.165758Z",
     "iopub.status.busy": "2025-06-17T19:15:08.165438Z",
     "iopub.status.idle": "2025-06-17T19:15:08.169447Z",
     "shell.execute_reply": "2025-06-17T19:15:08.168557Z"
    },
    "papermill": {
     "duration": 0.009549,
     "end_time": "2025-06-17T19:15:08.171084",
     "exception": false,
     "start_time": "2025-06-17T19:15:08.161535",
     "status": "completed"
    },
    "tags": []
   },
   "outputs": [],
   "source": [
    "# The lines below will show you a hint or the solution.\n",
    "# step_1.hint() \n",
    "# step_1.solution()"
   ]
  },
  {
   "cell_type": "markdown",
   "id": "faefbc7d",
   "metadata": {
    "papermill": {
     "duration": 0.003003,
     "end_time": "2025-06-17T19:15:08.177486",
     "exception": false,
     "start_time": "2025-06-17T19:15:08.174483",
     "status": "completed"
    },
    "tags": []
   },
   "source": [
    "## Step 2: Fit Model Using All Data\n",
    "You know the best tree size. If you were going to deploy this model in practice, you would make it even more accurate by using all of the data and keeping that tree size.  That is, you don't need to hold out the validation data now that you've made all your modeling decisions."
   ]
  },
  {
   "cell_type": "code",
   "execution_count": 5,
   "id": "132718d0",
   "metadata": {
    "execution": {
     "iopub.execute_input": "2025-06-17T19:15:08.184807Z",
     "iopub.status.busy": "2025-06-17T19:15:08.184445Z",
     "iopub.status.idle": "2025-06-17T19:15:08.199702Z",
     "shell.execute_reply": "2025-06-17T19:15:08.198739Z"
    },
    "papermill": {
     "duration": 0.020622,
     "end_time": "2025-06-17T19:15:08.201156",
     "exception": false,
     "start_time": "2025-06-17T19:15:08.180534",
     "status": "completed"
    },
    "tags": []
   },
   "outputs": [
    {
     "data": {
      "application/javascript": [
       "parent.postMessage({\"jupyterEvent\": \"custom.exercise_interaction\", \"data\": {\"outcomeType\": 1, \"valueTowardsCompletion\": 0.5, \"interactionType\": 1, \"questionType\": 2, \"questionId\": \"2_FitModelWithAllData\", \"learnToolsVersion\": \"0.3.5\", \"failureMessage\": \"\", \"exceptionClass\": \"\", \"trace\": \"\"}}, \"*\")"
      ],
      "text/plain": [
       "<IPython.core.display.Javascript object>"
      ]
     },
     "metadata": {},
     "output_type": "display_data"
    },
    {
     "data": {
      "text/markdown": [
       "<span style=\"color:#33cc33\">Correct</span>"
      ],
      "text/plain": [
       "Correct"
      ]
     },
     "metadata": {},
     "output_type": "display_data"
    }
   ],
   "source": [
    "# Fill in argument to make optimal size and uncomment\n",
    "final_model = DecisionTreeRegressor(max_leaf_nodes=best_tree_size, random_state=1)\n",
    "\n",
    "# fit the final model and uncomment the next two lines\n",
    "final_model.fit(X, y)\n",
    "\n",
    "# Check your answer\n",
    "step_2.check()"
   ]
  },
  {
   "cell_type": "code",
   "execution_count": 6,
   "id": "11b8179e",
   "metadata": {
    "execution": {
     "iopub.execute_input": "2025-06-17T19:15:08.208813Z",
     "iopub.status.busy": "2025-06-17T19:15:08.208485Z",
     "iopub.status.idle": "2025-06-17T19:15:08.212184Z",
     "shell.execute_reply": "2025-06-17T19:15:08.211468Z"
    },
    "papermill": {
     "duration": 0.008992,
     "end_time": "2025-06-17T19:15:08.213497",
     "exception": false,
     "start_time": "2025-06-17T19:15:08.204505",
     "status": "completed"
    },
    "tags": []
   },
   "outputs": [],
   "source": [
    "# step_2.hint()\n",
    "# step_2.solution()"
   ]
  },
  {
   "cell_type": "markdown",
   "id": "9dfebc16",
   "metadata": {
    "papermill": {
     "duration": 0.002723,
     "end_time": "2025-06-17T19:15:08.219381",
     "exception": false,
     "start_time": "2025-06-17T19:15:08.216658",
     "status": "completed"
    },
    "tags": []
   },
   "source": [
    "You've tuned this model and improved your results. But we are still using Decision Tree models, which are not very sophisticated by modern machine learning standards. In the next step you will learn to use Random Forests to improve your models even more.\n",
    "\n",
    "# Keep Going\n",
    "\n",
    "You are ready for **[Random Forests](https://www.kaggle.com/dansbecker/random-forests).**\n"
   ]
  },
  {
   "cell_type": "markdown",
   "id": "f9185655",
   "metadata": {
    "papermill": {
     "duration": 0.002677,
     "end_time": "2025-06-17T19:15:08.224952",
     "exception": false,
     "start_time": "2025-06-17T19:15:08.222275",
     "status": "completed"
    },
    "tags": []
   },
   "source": [
    "---\n",
    "\n",
    "\n",
    "\n",
    "\n",
    "*Have questions or comments? Visit the [course discussion forum](https://www.kaggle.com/learn/intro-to-machine-learning/discussion) to chat with other learners.*"
   ]
  }
 ],
 "metadata": {
  "kaggle": {
   "accelerator": "none",
   "dataSources": [
    {
     "databundleVersionId": 111096,
     "sourceId": 10211,
     "sourceType": "competition"
    },
    {
     "datasetId": 11167,
     "sourceId": 15520,
     "sourceType": "datasetVersion"
    },
    {
     "datasetId": 2709,
     "sourceId": 38454,
     "sourceType": "datasetVersion"
    }
   ],
   "isGpuEnabled": false,
   "isInternetEnabled": false,
   "language": "python",
   "sourceType": "notebook"
  },
  "kernelspec": {
   "display_name": "Python 3",
   "language": "python",
   "name": "python3"
  },
  "language_info": {
   "codemirror_mode": {
    "name": "ipython",
    "version": 3
   },
   "file_extension": ".py",
   "mimetype": "text/x-python",
   "name": "python",
   "nbconvert_exporter": "python",
   "pygments_lexer": "ipython3",
   "version": "3.11.11"
  },
  "papermill": {
   "default_parameters": {},
   "duration": 10.220089,
   "end_time": "2025-06-17T19:15:08.947993",
   "environment_variables": {},
   "exception": null,
   "input_path": "__notebook__.ipynb",
   "output_path": "__notebook__.ipynb",
   "parameters": {},
   "start_time": "2025-06-17T19:14:58.727904",
   "version": "2.6.0"
  }
 },
 "nbformat": 4,
 "nbformat_minor": 5
}
